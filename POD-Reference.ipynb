{
 "cells": [
  {
   "cell_type": "markdown",
   "metadata": {},
   "source": [
    "# POD Reference Update"
   ]
  },
  {
   "cell_type": "code",
   "execution_count": 22,
   "metadata": {},
   "outputs": [
    {
     "name": "stdout",
     "output_type": "stream",
     "text": [
      "✅ POD-Reference.xlsx has been updated.\n"
     ]
    }
   ],
   "source": [
    "import os\n",
    "import pandas as pd\n",
    "\n",
    "# Paths\n",
    "output_path = r\"C:\\Users\\Admin\\OneDrive - neousys-tech\\Share NTA Warehouse\\01 Incoming\\POD-Reference.xlsx\"\n",
    "network_path1 = r\"\\\\Quickbook2024\\d\\Drive D\\QuickBooks\\2- Year 2024\\Purchase Order (Vendor)- POD\"\n",
    "network_path2 = r\"\\\\Quickbook2024\\d\\Drive D\\QuickBooks\\3- Year 2025\\Purchase Order (Vendor)- POD\"\n",
    "\n",
    "# Gather all PDF file names\n",
    "pdf_files = []\n",
    "\n",
    "def gather_pdfs_from_path(path):\n",
    "    for root, dirs, files in os.walk(path):\n",
    "        for file in files:\n",
    "            if file.lower().endswith(\".pdf\"):\n",
    "                pdf_files.append(file)\n",
    "\n",
    "gather_pdfs_from_path(network_path1)\n",
    "gather_pdfs_from_path(network_path2)\n",
    "\n",
    "# Create DataFrame with POD and Reference\n",
    "df = pd.DataFrame(pdf_files, columns=[\"PDF File Names\"])\n",
    "df['POD'] = df['PDF File Names'].apply(lambda x: x.split('_')[0])\n",
    "df['Reference'] = df['PDF File Names'].apply(lambda x: '_'.join(x.split('_')[1:]).replace('.pdf', ''))\n",
    "df_reorganized = df[['POD', 'Reference']]\n",
    "\n",
    "# Write to external Excel file (safe for VLOOKUP/XLOOKUP)\n",
    "df_reorganized.to_excel(output_path, index=False)\n",
    "print(\"✅ POD-Reference.xlsx has been updated.\")\n",
    "\n",
    "\n"
   ]
  },
  {
   "cell_type": "markdown",
   "metadata": {},
   "source": [
    "# Print POD"
   ]
  },
  {
   "cell_type": "code",
   "execution_count": 25,
   "metadata": {},
   "outputs": [],
   "source": [
    "import os\n",
    "import re\n",
    "import win32api\n",
    "import win32print\n",
    "from datetime import datetime\n",
    "\n",
    "# Printing Function\n",
    "def print_pdf(path):\n",
    "    try:\n",
    "        win32api.ShellExecute(0, \"print\", path, None, \".\", 0)\n",
    "        print(f\"✅ Sent to printer: {os.path.basename(path)}\")\n",
    "    except Exception as e:\n",
    "        print(f\"❌ Failed to print {path}: {e}\")\n",
    "\n",
    "# ───────────────────────────────\n",
    "# 1.  Folder with POD PDFs\n",
    "# ───────────────────────────────\n",
    "FOLDER = r\"\\\\Quickbook2024\\d\\Drive D\\QuickBooks\\3- Year 2025\\Purchase Order (Vendor)- POD\"\n",
    "\n",
    "# ───────────────────────────────\n",
    "# 2.  Copy-&-paste POD list here\n",
    "# ───────────────────────────────\n",
    "raw_input = \"\"\"\n",
    "POD-251091  \n",
    "\"\"\"\n",
    "\n",
    "# ───────────────────────────────\n",
    "# 3.  Parse & numerically sort PODs\n",
    "# ───────────────────────────────\n",
    "pod_list = [p.strip() for p in raw_input.replace(\"\\n\", \"\").split(\",\") if p.strip()]\n",
    "PODS_ORDERED = sorted(pod_list, key=lambda x: int(x.split(\"-\")[1]))  # ascending 250382 → 250443 …\n",
    "PODS_SET     = set(PODS_ORDERED)   # fast membership test\n"
   ]
  },
  {
   "cell_type": "markdown",
   "metadata": {},
   "source": [
    "## Only Print latest Version "
   ]
  },
  {
   "cell_type": "code",
   "execution_count": null,
   "metadata": {},
   "outputs": [
    {
     "name": "stdout",
     "output_type": "stream",
     "text": [
      "✅ Latest for POD-251091: \\\\Quickbook2024\\d\\Drive D\\QuickBooks\\3- Year 2025\\Purchase Order (Vendor)- POD\\POD-251091_NTA_SHI International_SO-20251079.pdf (Modified: 2025-07-30 23:11:05.267915)\n"
     ]
    }
   ],
   "source": [
    "# Track latest file per POD\n",
    "latest_signed_files = {}\n",
    "\n",
    "for pod in PODS_SET:\n",
    "    latest_time = None\n",
    "    latest_file = None\n",
    "\n",
    "    for filename in os.listdir(FOLDER):\n",
    "        if pod in filename:\n",
    "            full_path = os.path.join(FOLDER, filename)\n",
    "            modified_time = os.path.getmtime(full_path)\n",
    "\n",
    "            if latest_time is None or modified_time > latest_time:\n",
    "                latest_time = modified_time\n",
    "                latest_file = full_path\n",
    "\n",
    "    if latest_file:\n",
    "            latest_signed_files[pod] = latest_file\n",
    "            print(f\"✅ Latest for {pod}: {latest_file} (Modified: {datetime.fromtimestamp(latest_time)})\")\n",
    "\n",
    "            print_pdf(latest_file) # Printing\n",
    "    else:\n",
    "        print(f\"❌ No signed version found for {pod}\")"
   ]
  },
  {
   "cell_type": "markdown",
   "metadata": {},
   "source": [
    "## Only print signed Version"
   ]
  },
  {
   "cell_type": "code",
   "execution_count": null,
   "metadata": {},
   "outputs": [],
   "source": [
    "# ───────────────────────────────\n",
    "# 4.  Index every *_signed.pdf\n",
    "#     Keep separate “revised” vs “regular” lists\n",
    "# ───────────────────────────────\n",
    "candidates = {pod: {\"revised\": [], \"regular\": []} for pod in PODS_SET}\n",
    "\n",
    "for fname in os.listdir(FOLDER):\n",
    "    if not fname.endswith(\"_signed.pdf\"):\n",
    "        continue\n",
    "    for pod in PODS_SET:\n",
    "        if pod in fname:\n",
    "            base = fname.split(\"_\")[0]             # e.g. POD-250382r2\n",
    "            is_rev = \"r\" in base[len(pod):].lower()  # anything after the POD that contains 'r'\n",
    "            key   = \"revised\" if is_rev else \"regular\"\n",
    "            candidates[pod][key].append(fname)\n",
    "            break\n",
    "# ───────────────────────────────\n",
    "# 5.  Helper: newest file in a list\n",
    "# ───────────────────────────────\n",
    "def newest(files):\n",
    "    return max(files, key=lambda f: os.path.getmtime(os.path.join(FOLDER, f))) if files else None\n",
    "\n",
    "# ───────────────────────────────\n",
    "# 6.  Choose ONE file per POD\n",
    "#     (prefer newest revised, else newest regular)\n",
    "# ───────────────────────────────\n",
    "chosen = {}\n",
    "for pod, versions in candidates.items():\n",
    "    chosen[pod] = newest(versions[\"revised\"]) or newest(versions[\"regular\"])\n",
    "# ───────────────────────────────\n",
    "# 7.  Print (or just list) in **numeric order**\n",
    "# ───────────────────────────────\n",
    "\n",
    "for pod in PODS_ORDERED:                 # keeps 250382 → … → 250864 order\n",
    "    filename = chosen.get(pod)\n",
    "    if filename:\n",
    "        full_path = os.path.join(FOLDER, filename)\n",
    "        print(full_path)                 # comment out after you verify\n",
    "        print_pdf(full_path)           # ← uncomment to actually print"
   ]
  }
 ],
 "metadata": {
  "kernelspec": {
   "display_name": "Python 3",
   "language": "python",
   "name": "python3"
  },
  "language_info": {
   "codemirror_mode": {
    "name": "ipython",
    "version": 3
   },
   "file_extension": ".py",
   "mimetype": "text/x-python",
   "name": "python",
   "nbconvert_exporter": "python",
   "pygments_lexer": "ipython3",
   "version": "3.12.4"
  }
 },
 "nbformat": 4,
 "nbformat_minor": 2
}
